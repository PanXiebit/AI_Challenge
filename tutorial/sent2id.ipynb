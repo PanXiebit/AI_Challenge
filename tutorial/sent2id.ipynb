{
 "cells": [
  {
   "cell_type": "code",
   "execution_count": 12,
   "metadata": {},
   "outputs": [],
   "source": [
    "import numpy as np\n",
    "import pickle\n",
    "from word_vec import MySentence, MyZhSentence\n",
    "from keras.preprocessing.sequence import pad_sequences"
   ]
  },
  {
   "cell_type": "code",
   "execution_count": 21,
   "metadata": {},
   "outputs": [],
   "source": [
    "def build_dataset(train=True,lan=\"en\", max_len=30): \n",
    "    # 最大长度的设计有待考虑，因为这是翻译，也不是分类，有多长就要设置多长吧，那可能很长很长很长吧。。。像google翻译\n",
    "    word2id = pickle.load(open(lan + '_vocab.pkl', 'rb')) # dict\n",
    "\n",
    "    if lan == \"en\":\n",
    "        train_corpus = MySentence(\"train/train.en\")  # iterable\n",
    "    else:\n",
    "        train_corpus = MyZhSentence(\"train/train.zh\")\n",
    "\n",
    "    for sent in train_corpus:\n",
    "        # 将每一个word转换成index，未知词设为 <unk>\n",
    "        sent = list(map(lambda word:word2id.get(word, word2id[\"<unk>\"]), sent))\n",
    "        # 每一行的末尾加上 <end>\n",
    "        sent = sent + [word2id[\"<end>\"]]\n",
    "        # 长度不足的padding\n",
    "        sent = pad_sequences([sent], max_len, padding='post', truncating='post', value=word2id[\"<pading>\"], dtype=np.int32)\n",
    "    \n",
    "    np.save(lan + \"_dataset\", train_corpus)\n",
    "    print(lan + \" dataset saved!\")    "
   ]
  },
  {
   "cell_type": "code",
   "execution_count": 11,
   "metadata": {},
   "outputs": [
    {
     "name": "stdout",
     "output_type": "stream",
     "text": [
      "[[1 2 3 0 0 0 0 0 0 0]\n",
      " [2 3 4 0 0 0 0 0 0 0]]\n"
     ]
    }
   ],
   "source": [
    "aa = [[1,2,3],[2,3,4]]\n",
    "aa = pad_sequences(aa, 10, padding='post', truncating='post', value=word2id[\"<pading>\"])\n",
    "print(aa)"
   ]
  },
  {
   "cell_type": "code",
   "execution_count": 6,
   "metadata": {},
   "outputs": [
    {
     "data": {
      "text/plain": [
       "[1, 2, 3, 0, 0, 0, 0, 0]"
      ]
     },
     "execution_count": 6,
     "metadata": {},
     "output_type": "execute_result"
    }
   ],
   "source": [
    "word2id = pickle.load(open(\"en_vocab.pkl\", \"rb\"))\n",
    "a = [1,2,3]\n",
    "a + 5 * [word2id[\"<pading>\"]]"
   ]
  },
  {
   "cell_type": "code",
   "execution_count": 8,
   "metadata": {},
   "outputs": [
    {
     "name": "stdout",
     "output_type": "stream",
     "text": [
      "[35, 6943, 3]\n"
     ]
    }
   ],
   "source": [
    "sent = [\"is\", \"uncle\",\"xiepan\"]\n",
    "sent = list(map(lambda word: word2id.get(word, word2id[\"<unk>\"]), sent))\n",
    "print(sent)"
   ]
  },
  {
   "cell_type": "code",
   "execution_count": 17,
   "metadata": {},
   "outputs": [
    {
     "data": {
      "text/plain": [
       "list"
      ]
     },
     "execution_count": 17,
     "metadata": {},
     "output_type": "execute_result"
    }
   ],
   "source": [
    "type(text)"
   ]
  },
  {
   "cell_type": "code",
   "execution_count": null,
   "metadata": {},
   "outputs": [],
   "source": []
  }
 ],
 "metadata": {
  "kernelspec": {
   "display_name": "Python [conda env:NLP]",
   "language": "python",
   "name": "conda-env-NLP-py"
  },
  "language_info": {
   "codemirror_mode": {
    "name": "ipython",
    "version": 3
   },
   "file_extension": ".py",
   "mimetype": "text/x-python",
   "name": "python",
   "nbconvert_exporter": "python",
   "pygments_lexer": "ipython3",
   "version": "3.6.6"
  }
 },
 "nbformat": 4,
 "nbformat_minor": 2
}
